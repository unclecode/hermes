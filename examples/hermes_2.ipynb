{
  "cells": [
    {
      "cell_type": "markdown",
      "metadata": {
        "id": "e3-WuuG6CIFy"
      },
      "source": [
        "# Hermes: Lightning-Fast Video Transcription and Commentary Tutorial\n",
        "\n",
        "## Introduction\n",
        "\n",
        "Welcome to this tutorial on Hermes, a powerful Python library and CLI tool for lightning-fast video transcription and commentary! Developed by [@unclecode](https://twitter.com/unclecode) and powered by cutting-edge AI, Hermes leverages the speed of Groq and the flexibility of multiple providers (Groq, MLX Whisper, and OpenAI) to convert your videos into text and generate insightful commentaries.\n",
        "\n",
        "Before we dive in, head over to the GitHub repo and show your support:\n",
        "\n",
        "- **Star the repo:** https://github.com/unclecode/hermes\n",
        "- **Follow me on X:** [@unclecode](https://twitter.com/unclecode)"
      ]
    },
    {
      "cell_type": "markdown",
      "metadata": {
        "id": "AIrtWBTDCIF0"
      },
      "source": [
        "## Installation\n",
        "\n",
        "Let's get Hermes installed! Use pip to install directly from GitHub:"
      ]
    },
    {
      "cell_type": "code",
      "execution_count": null,
      "metadata": {
        "id": "R0B4cL2MG5iL"
      },
      "outputs": [],
      "source": [
        "!apt install libasound2-dev portaudio19-dev libportaudio2 libportaudiocpp0 ffmpeg\n",
        "!pip install git+https://github.com/unclecode/hermes.git@main"
      ]
    },
    {
      "cell_type": "markdown",
      "metadata": {
        "id": "8BNFpK6ZCIF1"
      },
      "source": [
        "## Python Library\n",
        "\n",
        "### Basic Transcription"
      ]
    },
    {
      "cell_type": "code",
      "execution_count": null,
      "metadata": {
        "id": "D4OM8q8RCIF1"
      },
      "outputs": [],
      "source": [
        "import os\n",
        "from google.colab import userdata\n",
        "os.environ['GROQ_API_KEY'] = userdata.get('GROQ_API_KEY')\n",
        "from hermes import transcribe\n",
        "\n",
        "video_file = 'input.mp4'\n",
        "result = transcribe(video_file, provider='groq')\n",
        "print(result['transcription'])"
      ]
    },
    {
      "cell_type": "markdown",
      "metadata": {
        "id": "O0mPy3xrCIF2"
      },
      "source": [
        "### Transcribing YouTube Videos"
      ]
    },
    {
      "cell_type": "code",
      "execution_count": null,
      "metadata": {
        "id": "TYyESkhMCIF2"
      },
      "outputs": [],
      "source": [
        "from hermes import transcribe\n",
        "\n",
        "youtube_url = 'https://www.youtube.com/watch?v=PNulbFECY-I'\n",
        "result = transcribe(youtube_url, provider='groq')\n",
        "print(result['transcription'])"
      ]
    },
    {
      "cell_type": "markdown",
      "metadata": {
        "id": "YfGkV9jNCIF2"
      },
      "source": [
        "### Using Different Models"
      ]
    },
    {
      "cell_type": "code",
      "execution_count": null,
      "metadata": {
        "id": "zQZH3e80CIF2"
      },
      "outputs": [],
      "source": [
        "result = transcribe(video_file, provider='groq', model='whisper-large-v3')\n",
        "print(result['transcription'])"
      ]
    },
    {
      "cell_type": "markdown",
      "metadata": {
        "id": "dn0HQ0vICIF2"
      },
      "source": [
        "### JSON Output and LLM Processing"
      ]
    },
    {
      "cell_type": "code",
      "execution_count": null,
      "metadata": {
        "id": "RK077hZiCIF2"
      },
      "outputs": [],
      "source": [
        "# JSON output\n",
        "result = transcribe(video_file, provider='groq', response_format='json')\n",
        "print(result['transcription'])\n",
        "\n",
        "# LLM processing\n",
        "result = transcribe(video_file, provider='groq', llm_prompt=\"Summarize this transcription in 3 bullet points\")\n",
        "print(result['llm_processed'])"
      ]
    },
    {
      "cell_type": "markdown",
      "metadata": {
        "id": "new_section_1"
      },
      "source": [
        "### Generating Video Commentary"
      ]
    },
    {
      "cell_type": "code",
      "execution_count": null,
      "metadata": {
        "id": "new_code_1"
      },
      "outputs": [],
      "source": [
        "from hermes import Hermes\n",
        "\n",
        "hermes = Hermes()\n",
        "result = hermes.generate_video_commentary(video_file, interval_type='total_snapshots', interval_value=6, target_size=224, video_output_size=(640,))\n",
        "print(f\"Commentary generated. Final video: {result['final_video_path']}\")\n",
        "print(\"Commentary:\")\n",
        "print(result['commentary'])"
      ]
    },
    {
      "cell_type": "markdown",
      "metadata": {
        "id": "new_section_2"
      },
      "source": [
        "### Generating Textual Commentary"
      ]
    },
    {
      "cell_type": "code",
      "execution_count": null,
      "metadata": {
        "id": "new_code_2"
      },
      "outputs": [],
      "source": [
        "result = hermes.generate_textual_commentary(video_file, llm_prompt='Make a short story out of this commentary')\n",
        "print(\"Textual Commentary:\")\n",
        "print(result['textual_commentary'])\n",
        "print(\"\\nLLM Processed Result:\")\n",
        "print(result['llm_processed'])"
      ]
    },
    {
      "cell_type": "markdown",
      "metadata": {
        "id": "K12tLtI7CIF3"
      },
      "source": [
        "## Command Line Interface (CLI)\n",
        "\n",
        "Hermes also provides a convenient CLI for transcribing videos and generating commentaries. Here are some examples:"
      ]
    },
    {
      "cell_type": "markdown",
      "metadata": {
        "id": "IYxTYt86CIF3"
      },
      "source": [
        "### Basic Usage"
      ]
    },
    {
      "cell_type": "code",
      "execution_count": null,
      "metadata": {
        "id": "2PEQ0tLpCIF3"
      },
      "outputs": [],
      "source": [
        "!hermes input.mp4 -p groq"
      ]
    },
    {
      "cell_type": "markdown",
      "metadata": {
        "id": "J-JuXmM0CIF3"
      },
      "source": [
        "### YouTube Videos"
      ]
    },
    {
      "cell_type": "code",
      "execution_count": null,
      "metadata": {
        "id": "TJbF3j6bCIF3"
      },
      "outputs": [],
      "source": [
        "!hermes https://www.youtube.com/watch?v=PNulbFECY-I -p groq"
      ]
    },
    {
      "cell_type": "markdown",
      "metadata": {
        "id": "qxauRAa8CIF3"
      },
      "source": [
        "### Different Models"
      ]
    },
    {
      "cell_type": "code",
      "execution_count": null,
      "metadata": {
        "id": "eCa8loClCIF3"
      },
      "outputs": [],
      "source": [
        "!hermes input.mp4 -p groq -m whisper-large-v3"
      ]
    },
    {
      "cell_type": "markdown",
      "metadata": {
        "id": "chb_DIGPCIF3"
      },
      "source": [
        "### JSON Output"
      ]
    },
    {
      "cell_type": "code",
      "execution_count": null,
      "metadata": {
        "id": "BUsIWsbkCIF3"
      },
      "outputs": [],
      "source": [
        "!hermes input.mp4 -p groq --response_format json"
      ]
    },
    {
      "cell_type": "markdown",
      "metadata": {
        "id": "QvmhqNx1CIF3"
      },
      "source": [
        "### LLM Processing"
      ]
    },
    {
      "cell_type": "code",
      "execution_count": null,
      "metadata": {
        "id": "Z49ZHZLhCIF3"
      },
      "outputs": [],
      "source": [
        "!hermes input.mp4 -p groq --llm_prompt \"Summarize this transcription in 3 bullet points\""
      ]
    },
    {
      "cell_type": "markdown",
      "metadata": {
        "id": "new_section_3"
      },
      "source": [
        "### Generating Video Commentary"
      ]
    },
    {
      "cell_type": "code",
      "execution_count": null,
      "metadata": {
        "id": "new_code_3"
      },
      "outputs": [],
      "source": [
        "!hermes input.mp4 --generate-commentary --interval-type total_snapshots --interval-value 6 --target-size 224 --video-output-size 640 480"
      ]
    },
    {
      "cell_type": "markdown",
      "metadata": {
        "id": "new_section_4"
      },
      "source": [
        "### Generating Textual Commentary"
      ]
    },
    {
      "cell_type": "code",
      "execution_count": null,
      "metadata": {
        "id": "new_code_4"
      },
      "outputs": [],
      "source": [
        "!hermes input.mp4 --textual-commentary --interval-type seconds --interval-value 10 --llm_prompt \"Summarize the video content\""
      ]
    },
    {
      "cell_type": "markdown",
      "metadata": {
        "id": "e-XcDMZZCIF3"
      },
      "source": [
        "## Conclusion\n",
        "\n",
        "That's it! You've learned the basics of using Hermes for lightning-fast video transcription and commentary generation. Explore the different providers, models, and response formats to find what works best for your needs. Happy transcribing and commentating!"
      ]
    },
    {
      "cell_type": "markdown",
      "metadata": {
        "id": "gIKs3uffCIF4"
      },
      "source": [
        "**Extra Comments:**\n",
        "\n",
        "- Remember to replace the example video file paths and YouTube URLs with your actual content.\n",
        "- Hermes has excellent performance, especially with Groq's `distil-whisper` model.\n",
        "- The new video and textual commentary features provide powerful tools for analyzing and understanding video content.\n",
        "- Check out the `examples` folder in the GitHub repository for more advanced usage.\n",
        "- Feel free to contribute to the project and report any issues you encounter.\n",
        "- Don't forget to star the repo and follow [@unclecode](https://twitter.com/unclecode) on X!"
      ]
    }
  ],
  "metadata": {
    "colab": {
      "provenance": []
    },
    "kernelspec": {
      "display_name": "Python 3",
      "language": "python",
      "name": "python3"
    },
    "language_info": {
      "codemirror_mode": {
        "name": "ipython",
        "version": 3
      },
      "file_extension": ".py",
      "mimetype": "text/x-python",
      "name": "python",
      "nbconvert_exporter": "python",
      "pygments_lexer": "ipython3",
      "version": "3.10.6"
    }
  },
  "nbformat": 4,
  "nbformat_minor": 5
}
